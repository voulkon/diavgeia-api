{
    "cells": [
        {
            "cell_type": "markdown",
            "id": "b5a72657",
            "metadata": {},
            "source": [
                "First, make sure the package is installed."
            ]
        },
        {
            "cell_type": "code",
            "execution_count": 3,
            "id": "b5a7c636",
            "metadata": {},
            "outputs": [
                {
                    "name": "stdout",
                    "output_type": "stream",
                    "text": [
                        "Requirement already satisfied: diavgeia-api in c:\\users\\kvoul\\desktop\\playground\\diavgeia\\.venv\\lib\\site-packages (0.0.1)\n",
                        "Requirement already satisfied: loguru<0.8.0,>=0.7.2 in c:\\users\\kvoul\\desktop\\playground\\diavgeia\\.venv\\lib\\site-packages (from diavgeia-api) (0.7.3)\n",
                        "Requirement already satisfied: pydantic<3.0.0,>=2.7.0 in c:\\users\\kvoul\\desktop\\playground\\diavgeia\\.venv\\lib\\site-packages (from diavgeia-api) (2.11.3)\n",
                        "Requirement already satisfied: requests<3.0.0,>=2.31.0 in c:\\users\\kvoul\\desktop\\playground\\diavgeia\\.venv\\lib\\site-packages (from diavgeia-api) (2.32.3)\n",
                        "Requirement already satisfied: colorama>=0.3.4 in c:\\users\\kvoul\\desktop\\playground\\diavgeia\\.venv\\lib\\site-packages (from loguru<0.8.0,>=0.7.2->diavgeia-api) (0.4.6)\n",
                        "Requirement already satisfied: win32-setctime>=1.0.0 in c:\\users\\kvoul\\desktop\\playground\\diavgeia\\.venv\\lib\\site-packages (from loguru<0.8.0,>=0.7.2->diavgeia-api) (1.2.0)\n",
                        "Requirement already satisfied: annotated-types>=0.6.0 in c:\\users\\kvoul\\desktop\\playground\\diavgeia\\.venv\\lib\\site-packages (from pydantic<3.0.0,>=2.7.0->diavgeia-api) (0.7.0)\n",
                        "Requirement already satisfied: pydantic-core==2.33.1 in c:\\users\\kvoul\\desktop\\playground\\diavgeia\\.venv\\lib\\site-packages (from pydantic<3.0.0,>=2.7.0->diavgeia-api) (2.33.1)\n",
                        "Requirement already satisfied: typing-extensions>=4.12.2 in c:\\users\\kvoul\\desktop\\playground\\diavgeia\\.venv\\lib\\site-packages (from pydantic<3.0.0,>=2.7.0->diavgeia-api) (4.13.2)\n",
                        "Requirement already satisfied: typing-inspection>=0.4.0 in c:\\users\\kvoul\\desktop\\playground\\diavgeia\\.venv\\lib\\site-packages (from pydantic<3.0.0,>=2.7.0->diavgeia-api) (0.4.0)\n",
                        "Requirement already satisfied: charset-normalizer<4,>=2 in c:\\users\\kvoul\\desktop\\playground\\diavgeia\\.venv\\lib\\site-packages (from requests<3.0.0,>=2.31.0->diavgeia-api) (3.4.1)\n",
                        "Requirement already satisfied: idna<4,>=2.5 in c:\\users\\kvoul\\desktop\\playground\\diavgeia\\.venv\\lib\\site-packages (from requests<3.0.0,>=2.31.0->diavgeia-api) (3.10)\n",
                        "Requirement already satisfied: urllib3<3,>=1.21.1 in c:\\users\\kvoul\\desktop\\playground\\diavgeia\\.venv\\lib\\site-packages (from requests<3.0.0,>=2.31.0->diavgeia-api) (2.4.0)\n",
                        "Requirement already satisfied: certifi>=2017.4.17 in c:\\users\\kvoul\\desktop\\playground\\diavgeia\\.venv\\lib\\site-packages (from requests<3.0.0,>=2.31.0->diavgeia-api) (2025.1.31)\n"
                    ]
                },
                {
                    "name": "stderr",
                    "output_type": "stream",
                    "text": [
                        "\n",
                        "[notice] A new release of pip is available: 24.3.1 -> 25.0.1\n",
                        "[notice] To update, run: python.exe -m pip install --upgrade pip\n"
                    ]
                }
            ],
            "source": [
                "! pip install diavgeia-api"
            ]
        },
        {
            "cell_type": "markdown",
            "id": "1e65a691",
            "metadata": {},
            "source": [
                "And initiate our main object, the client:"
            ]
        },
        {
            "cell_type": "code",
            "execution_count": 4,
            "id": "72534c50",
            "metadata": {},
            "outputs": [],
            "source": [
                "from diavgeia_api import DiavgeiaClient\n",
                "\n",
                "# Initialize client\n",
                "client = DiavgeiaClient()\n",
                "\n",
                "# We will recycle it throughout the notebook"
            ]
        },
        {
            "cell_type": "markdown",
            "id": "53b26af1",
            "metadata": {},
            "source": [
                "And take a look at the available methods:"
            ]
        },
        {
            "cell_type": "code",
            "execution_count": 5,
            "id": "9bbcd9d6",
            "metadata": {},
            "outputs": [
                {
                    "name": "stdout",
                    "output_type": "stream",
                    "text": [
                        "Available methods:\n",
                        "- get_a_decision: Return a specific decision's details.\n",
                        "- get_a_decisions_specific_version: Returns details of a specific version of a decision.\n",
                        "- get_a_decisions_version_log: Returns details of a specific version of a decision.\n",
                        "- get_a_types_details: Returns details of a type.\n",
                        "- get_a_types_summary: Returns a summary of a specific type.\n",
                        "- get_all_types: Returns all existing types.\n",
                        "- get_dictionaries: Return the list of available dictionaries.\n",
                        "- get_dictionary: Return all items for a specific dictionary.\n",
                        "- get_organization: Returns details of a specific organization.\n",
                        "- get_organization_positions: Returns positions of a specific organization.\n",
                        "- get_organization_signers: Returns signers of a specific organization.\n",
                        "- get_organization_units: Returns units of a specific organization.\n",
                        "- get_organizations: Returns a list of registered organizations.\n",
                        "- search_advanced: Search for decisions with advanced query syntax.\n",
                        "- search_decisions: Search for decisions with simple parameters.\n"
                    ]
                }
            ],
            "source": [
                "# Get all methods that don't start with underscore (public methods)\n",
                "public_methods = [method for method in dir(client) if not method.startswith('_') and callable(getattr(client, method))]\n",
                "\n",
                "print(\"Available methods:\")\n",
                "for method in sorted(public_methods):\n",
                "    # Print the method name and its docstring if available\n",
                "    doc = getattr(client, method).__doc__\n",
                "    if doc:\n",
                "        # Get just the first line of the docstring for a brief description\n",
                "        brief_doc = doc.strip().split('\\n')[0]\n",
                "        print(f\"- {method}: {brief_doc}\")\n",
                "    else:\n",
                "        print(f\"- {method}\")"
            ]
        },
        {
            "cell_type": "markdown",
            "id": "59f64edd",
            "metadata": {},
            "source": [
                "Then, let's target one specific decision (99Θ346ΜΓΨ7-Κ52 in our example) and explore."
            ]
        },
        {
            "cell_type": "code",
            "execution_count": 6,
            "id": "53501a7c",
            "metadata": {},
            "outputs": [],
            "source": [
                "\n",
                "search_for_decision_id = \"99Θ346ΜΓΨ7-Κ52\"\n",
                "\n",
                "decision = client.get_a_decision(search_for_decision_id)"
            ]
        },
        {
            "cell_type": "code",
            "execution_count": 7,
            "id": "0bdcf4eb",
            "metadata": {},
            "outputs": [
                {
                    "name": "stdout",
                    "output_type": "stream",
                    "text": [
                        "Protocol Number: 2829\n",
                        "Subject: Έγκριση δέσμευσης πίστωσης ΑΛΕ 2420301001 για την πληρωμή ισόποσης δαπάνης σε βάρος της πίστωσης του προϋπολογισμού εξόδων του Ειδικού Φορέα 1004 201-0000000.\n",
                        "Submission Timestamp: 2025-04-17 08:21:26.446000+00:00\n",
                        "Total Amount to pay: amount=2480.0 currency='EUR'\n",
                        "Amount from which buget: Τακτικός Προϋπολογισμός\n"
                    ]
                }
            ],
            "source": [
                "print(f\"Protocol Number: {decision.protocolNumber}\")\n",
                "print(f\"Subject: {decision.subject}\")\n",
                "print(f\"Submission Timestamp: {decision.submissionTimestamp}\")\n",
                "print(f\"Total Amount to pay: {decision.extraFieldValues.amountWithVAT}\")\n",
                "print(f\"Amount from which buget: {decision.extraFieldValues.budgettype}\")"
            ]
        },
        {
            "cell_type": "markdown",
            "id": "5e8f9f35",
            "metadata": {},
            "source": [
                "Which organization produced this decision?"
            ]
        },
        {
            "cell_type": "code",
            "execution_count": 8,
            "id": "70f1a7e6",
            "metadata": {},
            "outputs": [
                {
                    "name": "stdout",
                    "output_type": "stream",
                    "text": [
                        "Organization issuing the decision: 100048574\n"
                    ]
                }
            ],
            "source": [
                "org_of_this_decision = decision.organizationId\n",
                "print(f\"Organization issuing the decision: {org_of_this_decision}\")"
            ]
        },
        {
            "cell_type": "markdown",
            "id": "13f9aebb",
            "metadata": {},
            "source": [
                "Since a unique identifier tells nothing, we're going to use the `get_organization` method to retrieve information about it:"
            ]
        },
        {
            "cell_type": "code",
            "execution_count": 9,
            "id": "838b56de",
            "metadata": {},
            "outputs": [],
            "source": [
                "organization_that_produced_it = client.get_organization(org_of_this_decision)"
            ]
        },
        {
            "cell_type": "code",
            "execution_count": 10,
            "id": "e943cc55",
            "metadata": {},
            "outputs": [
                {
                    "data": {
                        "text/plain": [
                            "Organization(uid='100048574', latinName='PRESIDENCY_OF_THE_GOVERNMENT', abbreviation=None, label='ΠΡΟΕΔΡΙΑ ΤΗΣ ΚΥΒΕΡΝΗΣΗΣ', status=<OrganizationStatus.ACTIVE: 'active'>, category='MINISTRY', vatNumber='996887930', fekNumber='133', fekIssue='fektype_A', fekYear='2019', organizationDomains=['GovernanceInstrumentation'], website=None, supervisorOrgUid=None, supervisorOrgName=None)"
                        ]
                    },
                    "execution_count": 10,
                    "metadata": {},
                    "output_type": "execute_result"
                }
            ],
            "source": [
                "organization_that_produced_it"
            ]
        },
        {
            "cell_type": "code",
            "execution_count": 11,
            "id": "40fc66b0",
            "metadata": {},
            "outputs": [
                {
                    "name": "stdout",
                    "output_type": "stream",
                    "text": [
                        "Organization with id: 100048574 is ** ΠΡΟΕΔΡΙΑ ΤΗΣ ΚΥΒΕΡΝΗΣΗΣ ** \n",
                        "Has a vat number of 996887930 \n",
                        "And is part of the category: MINISTRY \n"
                    ]
                }
            ],
            "source": [
                "print(f\"Organization with id: {organization_that_produced_it.uid} is ** {organization_that_produced_it.label} ** \")\n",
                "print(f\"Has a vat number of {organization_that_produced_it.vatNumber} \")\n",
                "print(f\"And is part of the category: {organization_that_produced_it.category} \")\n"
            ]
        },
        {
            "cell_type": "markdown",
            "id": "67695633",
            "metadata": {},
            "source": [
                "But which specific unit of it produced it?\n",
                "Let's use the `get_organization_units` to learn more about this organization and its units."
            ]
        },
        {
            "cell_type": "code",
            "execution_count": 12,
            "id": "aca65bd2",
            "metadata": {},
            "outputs": [
                {
                    "name": "stdout",
                    "output_type": "stream",
                    "text": [
                        "Unit issuing the decision: ['100062183']\n"
                    ]
                }
            ],
            "source": [
                "unit_of_this_decision = decision.unitIds\n",
                "print(f\"Unit issuing the decision: {unit_of_this_decision}\")"
            ]
        },
        {
            "cell_type": "code",
            "execution_count": 13,
            "id": "10afd30d",
            "metadata": {},
            "outputs": [],
            "source": [
                "units_of_organization_that_produced_it = client.get_organization_units(organization_id = org_of_this_decision)"
            ]
        },
        {
            "cell_type": "code",
            "execution_count": 14,
            "id": "991803d8",
            "metadata": {},
            "outputs": [],
            "source": [
                "the_unit_we_are_looking_for = [ \n",
                "                            unit \n",
                "                            for unit in \n",
                "                            units_of_organization_that_produced_it.units \n",
                "                            if unit.uid in unit_of_this_decision \n",
                "                            ]"
            ]
        },
        {
            "cell_type": "code",
            "execution_count": 15,
            "id": "4c04e67c",
            "metadata": {},
            "outputs": [
                {
                    "name": "stdout",
                    "output_type": "stream",
                    "text": [
                        "[Unit(uid='100062183', label='ΜΟΝΑΔΑ ΔΙΟΙΚΗΤΙΚΗΣ ΚΑΙ ΟΙΚΟΝΟΜΙΚΗΣ ΥΠΟΣΤΗΡΙΞΗΣ', active=True, activeFrom=datetime.datetime(2019, 9, 7, 0, 0, tzinfo=TzInfo(UTC)), activeUntil=None, category='GENERAL_ADMINISTRATION', unitDomains=None, parentId='100048985')]\n"
                    ]
                }
            ],
            "source": [
                "print(the_unit_we_are_looking_for)"
            ]
        },
        {
            "cell_type": "markdown",
            "id": "e99e1dad",
            "metadata": {},
            "source": [
                "There's also information about who signed this expense. "
            ]
        },
        {
            "cell_type": "code",
            "execution_count": 16,
            "id": "268ee66f",
            "metadata": {},
            "outputs": [
                {
                    "name": "stdout",
                    "output_type": "stream",
                    "text": [
                        "Signer: ['100064303']\n"
                    ]
                }
            ],
            "source": [
                "signer_of_this_decision = decision.signerIds\n",
                "print(f\"Signer: {signer_of_this_decision}\")"
            ]
        },
        {
            "cell_type": "markdown",
            "id": "fd6400ec",
            "metadata": {},
            "source": [
                "Let's use the `get_organization_signers`  to find who exactly approved this expense."
            ]
        },
        {
            "cell_type": "code",
            "execution_count": 17,
            "id": "4552387c",
            "metadata": {},
            "outputs": [],
            "source": [
                "signers_of_organization_that_produced_it = client.get_organization_signers(organization_id = org_of_this_decision)"
            ]
        },
        {
            "cell_type": "code",
            "execution_count": 18,
            "id": "27a6e350",
            "metadata": {},
            "outputs": [],
            "source": [
                "the_signer_we_are_looking_for = [ \n",
                "                            singer \n",
                "                            for singer in \n",
                "                            signers_of_organization_that_produced_it.signers \n",
                "                            if singer.uid in signer_of_this_decision \n",
                "                            ][0]"
            ]
        },
        {
            "cell_type": "code",
            "execution_count": 19,
            "id": "14f571f8",
            "metadata": {},
            "outputs": [
                {
                    "name": "stdout",
                    "output_type": "stream",
                    "text": [
                        "Signer with id: 100064303 is Ms ΚΩΝΣΤΑΝΤΙΝΑ ΚΑΖΑΚΟΥ and holds the position of Διευθυντής\n"
                    ]
                }
            ],
            "source": [
                "signer_message = f\"\"\"Signer with id: {the_signer_we_are_looking_for.uid} is Ms {the_signer_we_are_looking_for.firstName} {the_signer_we_are_looking_for.lastName} and holds the position of {the_signer_we_are_looking_for.units[0].positionLabel}\"\"\"\n",
                "print(signer_message)"
            ]
        }
    ],
    "metadata": {
        "kernelspec": {
            "display_name": ".venv",
            "language": "python",
            "name": "python3"
        },
        "language_info": {
            "codemirror_mode": {
                "name": "ipython",
                "version": 3
            },
            "file_extension": ".py",
            "mimetype": "text/x-python",
            "name": "python",
            "nbconvert_exporter": "python",
            "pygments_lexer": "ipython3",
            "version": "3.12.8"
        }
    },
    "nbformat": 4,
    "nbformat_minor": 5
}
