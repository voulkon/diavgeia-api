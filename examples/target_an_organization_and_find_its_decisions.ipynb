{
 "cells": [
  {
   "cell_type": "markdown",
   "id": "6616fb3e",
   "metadata": {},
   "source": [
    "! pip install diavgeia-api"
   ]
  },
  {
   "cell_type": "code",
   "execution_count": 1,
   "id": "0f8d8e3d",
   "metadata": {},
   "outputs": [],
   "source": [
    "from diavgeia_api import DiavgeiaClient\n",
    "\n",
    "# Initialize client\n",
    "client = DiavgeiaClient()\n",
    "\n",
    "# We will recycle it throughout the notebook"
   ]
  },
  {
   "cell_type": "code",
   "execution_count": 2,
   "id": "e0c6aae5",
   "metadata": {},
   "outputs": [],
   "source": [
    "# This will help us print large elements and save up space on the notebook's size\n",
    "PRINTING_LIMIT = 5"
   ]
  },
  {
   "cell_type": "code",
   "execution_count": 3,
   "id": "4dc5b246",
   "metadata": {},
   "outputs": [],
   "source": [
    "search_for_organization = \"6063\" # ΔΗΜΟΣ ΓΑΛΑΤΣΙΟΥ\n",
    "\n",
    "organization = client.get_organization(search_for_organization)\n"
   ]
  },
  {
   "cell_type": "code",
   "execution_count": 4,
   "id": "46fbe720",
   "metadata": {},
   "outputs": [
    {
     "data": {
      "text/plain": [
       "Organization(uid='6063', latinName='dimosgalatsiou', abbreviation=None, label='ΔΗΜΟΣ ΓΑΛΑΤΣΙΟΥ', status=<OrganizationStatus.ACTIVE: 'active'>, category='MUNICIPALITY', vatNumber='090198370', fekNumber='150', fekIssue='fektype_B', fekYear='2004', organizationDomains=[], website='http://www.galatsi.gov.gr', supervisorOrgUid=None, supervisorOrgName=None)"
      ]
     },
     "execution_count": 4,
     "metadata": {},
     "output_type": "execute_result"
    }
   ],
   "source": [
    "organization"
   ]
  },
  {
   "cell_type": "code",
   "execution_count": 5,
   "id": "0bcc7013",
   "metadata": {},
   "outputs": [],
   "source": [
    "org_name = organization.label"
   ]
  },
  {
   "cell_type": "code",
   "execution_count": 6,
   "id": "f18045c6",
   "metadata": {},
   "outputs": [
    {
     "name": "stdout",
     "output_type": "stream",
     "text": [
      "Organization called: ΔΗΜΟΣ ΓΑΛΑΤΣΙΟΥ\n"
     ]
    }
   ],
   "source": [
    "print(f\"Organization called: {org_name}\")"
   ]
  },
  {
   "cell_type": "code",
   "execution_count": 7,
   "id": "5a2fcc50",
   "metadata": {},
   "outputs": [
    {
     "data": {
      "text/plain": [
       "PositionsResponse(positions=[Position(uid='POS_10036', label='Πρόεδρος'), Position(uid='POS_10009', label='Διευθυντής'), Position(uid='POS_10091', label='Δήμαρχος'), Position(uid='POS_10007', label='Πρόεδρος Δ.Σ.'), Position(uid='POS_10071', label='Διευθύνων'), Position(uid='POS_10092', label='Αντιδήμαρχος'), Position(uid='POS_10107', label='Προεδρεύων'), Position(uid='POS_10026', label='Αντιπρόεδρος'), Position(uid='POS_10132', label='Α/Α Πρόεδρος'), Position(uid='POS_10114', label='Προεδρεύουσα'), Position(uid='100008409', label='Τακτικό Μέλος Επιτροπής'), Position(uid='POS_10040', label='Προϊστάμενος Τμήματος'), Position(uid='POS_10073', label='Αναπληρωτής Προϊστάμενος Διεύθυνσης'), Position(uid='POS_10115', label='Εντεταλμένος Δημοτικός Σύμβουλος'), Position(uid='POS_10108', label='Αναπληρωτής Δήμαρχος'), Position(uid='POS_10128', label='Α/Α (Αντι Αυτού) Προϊσταμένου Διεύθυνσης'), Position(uid='POS_10003', label='Γενικός Γραμματέας'), Position(uid='100015546', label='Πρόεδρος Επιτροπής'), Position(uid='POS_10087', label='Προεδρεύων Αντιπρόεδρος'), Position(uid='100046608', label='Αναπληρωτής Προϊστάμενος'), Position(uid='POS_10012', label='Αναπληρωτής Διευθυντής'), Position(uid='POS_10060', label='Αναπληρωτης Προϊστάμενος Τμήματος'), Position(uid='100008421', label='Αναπληρωματικό Μέλος Επιτροπής'), Position(uid='POS_10077', label='Αντιπρόεδρος Δ.Σ.'), Position(uid='POS_10138', label='Προϊστάμενος Διεύθυνσης')])"
      ]
     },
     "execution_count": 7,
     "metadata": {},
     "output_type": "execute_result"
    }
   ],
   "source": [
    "orgs_positions= client.get_organization_positions(search_for_organization)\n",
    "orgs_positions"
   ]
  },
  {
   "cell_type": "code",
   "execution_count": 8,
   "id": "c01cde81",
   "metadata": {},
   "outputs": [
    {
     "name": "stdout",
     "output_type": "stream",
     "text": [
      "Organization called: ΔΗΜΟΣ ΓΑΛΑΤΣΙΟΥ has 25 positions which are:\n",
      "0: Πρόεδρος\n",
      "1: Διευθυντής\n",
      "2: Δήμαρχος\n",
      "3: Πρόεδρος Δ.Σ.\n",
      "4: Διευθύνων\n"
     ]
    }
   ],
   "source": [
    "print(f\"Organization called: {org_name} has {len(orgs_positions.positions)} positions which are:\")\n",
    "for i, position in enumerate(orgs_positions.positions[:PRINTING_LIMIT]):\n",
    "    \n",
    "    print(f\"{i}: {position.label}\")"
   ]
  },
  {
   "cell_type": "code",
   "execution_count": 9,
   "id": "b8180c8b",
   "metadata": {},
   "outputs": [],
   "source": [
    "organization_signers = client.get_organization_signers(search_for_organization)"
   ]
  },
  {
   "cell_type": "code",
   "execution_count": 10,
   "id": "3541459d",
   "metadata": {},
   "outputs": [
    {
     "data": {
      "text/plain": [
       "SignersResponse(signers=[Signer(uid='100089773', firstName='ΡΟΔΟΘΕΑ', lastName='ΑΒΕΡΚΙΟΥ', active=True, activeFrom=datetime.datetime(2024, 3, 26, 0, 0, tzinfo=datetime.timezone.utc), activeUntil=None, organizationId='6063', hasOrganizationSignRights=False, units=[SignerUnit(uid='100087455', positionId='POS_10073', positionLabel='Αναπληρωτής Προϊστάμενος Διεύθυνσης')]), Signer(uid='136583', firstName='ΑΓΓΕΛΙΚΗ', lastName='ΑΛΙΦΙΕΡΑΚΗ', active=True, activeFrom=datetime.datetime(2010, 1, 1, 0, 0, tzinfo=datetime.timezone.utc), activeUntil=None, organizationId='6063', hasOrganizationSignRights=False, units=[SignerUnit(uid='89236', positionId='POS_10071', positionLabel='Διευθύνων')]), Signer(uid='100058318', firstName='ΝΙΚΟΛΑΟΣ', lastName='ΑΝΑΣΤΟΠΟΥΛΟΣ', active=True, activeFrom=datetime.datetime(2020, 3, 12, 0, 0, tzinfo=datetime.timezone.utc), activeUntil=None, organizationId='6063', hasOrganizationSignRights=False, units=[SignerUnit(uid='100025485', positionId='100008421', positionLabel='Αναπληρωματικό Μέλος Επιτροπής')]), Signer(uid='100066004', firstName='ΝΙΚΟΛΑΟΣ ΠΑΝΑΓΙΩΤΗΣ', lastName='ΑΝΑΣΤΟΠΟΥΛΟΣ', active=True, activeFrom=datetime.datetime(2021, 4, 27, 0, 0, tzinfo=datetime.timezone.utc), activeUntil=None, organizationId='6063', hasOrganizationSignRights=False, units=[SignerUnit(uid='100025485', positionId='100008409', positionLabel='Τακτικό Μέλος Επιτροπής')]), Signer(uid='100023225', firstName='Γεώργιος', lastName='Αμοργιανός', active=True, activeFrom=datetime.datetime(2016, 9, 8, 0, 0, tzinfo=datetime.timezone.utc), activeUntil=None, organizationId='6063', hasOrganizationSignRights=False, units=[SignerUnit(uid='100023223', positionId='POS_10092', positionLabel='Αντιδήμαρχος')]), Signer(uid='100090628', firstName='Αικατερίνη', lastName='Αναγνωσταρά', active=True, activeFrom=datetime.datetime(2024, 4, 26, 0, 0, tzinfo=datetime.timezone.utc), activeUntil=None, organizationId='6063', hasOrganizationSignRights=False, units=[SignerUnit(uid='100090090', positionId='POS_10073', positionLabel='Αναπληρωτής Προϊστάμενος Διεύθυνσης')]), Signer(uid='100013603', firstName='Κατερίνα', lastName='Αναγνωσταρά', active=True, activeFrom=datetime.datetime(2015, 6, 22, 0, 0, tzinfo=datetime.timezone.utc), activeUntil=None, organizationId='6063', hasOrganizationSignRights=False, units=[SignerUnit(uid='89502', positionId='POS_10012', positionLabel='Αναπληρωτής Διευθυντής')]), Signer(uid='100085356', firstName='Ανδρέας', lastName='Ανδρέου', active=True, activeFrom=datetime.datetime(2024, 1, 8, 0, 0, tzinfo=datetime.timezone.utc), activeUntil=None, organizationId='6063', hasOrganizationSignRights=False, units=[SignerUnit(uid='100061708', positionId='POS_10092', positionLabel='Αντιδήμαρχος')]), Signer(uid='100087458', firstName='Σπυρίδων', lastName='Αργυρός', active=True, activeFrom=datetime.datetime(2024, 1, 31, 0, 0, tzinfo=datetime.timezone.utc), activeUntil=None, organizationId='6063', hasOrganizationSignRights=False, units=[SignerUnit(uid='100087455', positionId='POS_10092', positionLabel='Αντιδήμαρχος')]), Signer(uid='100069874', firstName='Σπυρίδωνας', lastName='Αργυρός', active=True, activeFrom=datetime.datetime(2021, 12, 1, 0, 0, tzinfo=datetime.timezone.utc), activeUntil=None, organizationId='6063', hasOrganizationSignRights=False, units=[SignerUnit(uid='100023223', positionId='POS_10092', positionLabel='Αντιδήμαρχος')]), Signer(uid='115756', firstName='ΙΟΥΛΙΑ', lastName='ΒΑΘΡΑΚΟΚΟΙΛΗ', active=True, activeFrom=datetime.datetime(2010, 1, 1, 0, 0, tzinfo=datetime.timezone.utc), activeUntil=None, organizationId='6063', hasOrganizationSignRights=False, units=[SignerUnit(uid='100031250', positionId='POS_10009', positionLabel='Διευθυντής'), SignerUnit(uid='84446', positionId='POS_10009', positionLabel='Διευθυντής')]), Signer(uid='100093207', firstName='ΙΩΑΝΝΗΣ', lastName='ΒΕΡΟΥΛΗΣ', active=True, activeFrom=datetime.datetime(2024, 9, 18, 0, 0, tzinfo=datetime.timezone.utc), activeUntil=None, organizationId='6063', hasOrganizationSignRights=True, units=[SignerUnit(uid='6063', positionId='POS_10108', positionLabel='Αναπληρωτής Δήμαρχος')]), Signer(uid='100085331', firstName='Ιωάννης', lastName='Βερούλης', active=True, activeFrom=datetime.datetime(2024, 1, 8, 0, 0, tzinfo=datetime.timezone.utc), activeUntil=None, organizationId='6063', hasOrganizationSignRights=False, units=[SignerUnit(uid='89502', positionId='POS_10092', positionLabel='Αντιδήμαρχος')]), Signer(uid='100089709', firstName='ΜΑΡΙΑ', lastName='ΓΕΩΡΓΙΟΥ', active=True, activeFrom=datetime.datetime(2024, 3, 21, 0, 0, tzinfo=datetime.timezone.utc), activeUntil=None, organizationId='6063', hasOrganizationSignRights=False, units=[SignerUnit(uid='100087456', positionId='POS_10073', positionLabel='Αναπληρωτής Προϊστάμενος Διεύθυνσης')]), Signer(uid='134727', firstName='ΜΑΡΙΑ', lastName='ΓΚΟΓΚΟΥ', active=True, activeFrom=datetime.datetime(2010, 1, 1, 0, 0, tzinfo=datetime.timezone.utc), activeUntil=None, organizationId='6063', hasOrganizationSignRights=False, units=[SignerUnit(uid='94044', positionId='POS_10009', positionLabel='Διευθυντής')]), Signer(uid='100048135', firstName='Γιάννης', lastName='Γκιουζέλης', active=True, activeFrom=datetime.datetime(2019, 8, 5, 0, 0, tzinfo=datetime.timezone.utc), activeUntil=None, organizationId='6063', hasOrganizationSignRights=False, units=[SignerUnit(uid='89236', positionId='POS_10012', positionLabel='Αναπληρωτής Διευθυντής')]), Signer(uid='124431', firstName='ΧΡΙΣΤΙΝΑ', lastName='ΔΑΒΕΤΑ', active=True, activeFrom=datetime.datetime(2010, 1, 1, 0, 0, tzinfo=datetime.timezone.utc), activeUntil=None, organizationId='6063', hasOrganizationSignRights=False, units=[SignerUnit(uid='89236', positionId='POS_10009', positionLabel='Διευθυντής')]), Signer(uid='100072378', firstName='ΒΑΣΙΛΕΙΟΣ', lastName='ΔΕΡΕΔΙΝΗΣ', active=True, activeFrom=datetime.datetime(2022, 3, 24, 0, 0, tzinfo=datetime.timezone.utc), activeUntil=None, organizationId='6063', hasOrganizationSignRights=False, units=[SignerUnit(uid='84308', positionId='POS_10026', positionLabel='Αντιπρόεδρος')]), Signer(uid='100048533', firstName='ΒΑΣΙΛΕΙΟΣ', lastName='ΔΕΡΕΔΙΝΗΣ', active=True, activeFrom=datetime.datetime(2019, 8, 28, 0, 0, tzinfo=datetime.timezone.utc), activeUntil=None, organizationId='6063', hasOrganizationSignRights=True, units=[SignerUnit(uid='6063', positionId='POS_10108', positionLabel='Αναπληρωτής Δήμαρχος')]), Signer(uid='100033472', firstName='ΒΑΣΙΛΗΣ', lastName='ΔΕΡΕΔΙΝΗΣ', active=True, activeFrom=datetime.datetime(2017, 9, 11, 0, 0, tzinfo=datetime.timezone.utc), activeUntil=None, organizationId='6063', hasOrganizationSignRights=False, units=[SignerUnit(uid='84308', positionId='POS_10107', positionLabel='Προεδρεύων')]), Signer(uid='100023221', firstName='Μαίρη', lastName='Δάσκα - Σώμου', active=True, activeFrom=datetime.datetime(2023, 10, 17, 0, 0, tzinfo=datetime.timezone.utc), activeUntil=None, organizationId='6063', hasOrganizationSignRights=False, units=[SignerUnit(uid='82451', positionId='POS_10092', positionLabel='Αντιδήμαρχος')]), Signer(uid='100002545', firstName='Παναγιώτης', lastName='Δαβίλλας', active=True, activeFrom=datetime.datetime(2014, 9, 4, 0, 0, tzinfo=datetime.timezone.utc), activeUntil=None, organizationId='6063', hasOrganizationSignRights=False, units=[SignerUnit(uid='94748', positionId='POS_10092', positionLabel='Αντιδήμαρχος')]), Signer(uid='100061694', firstName='Βασίλειος', lastName='Δερεδίνης', active=True, activeFrom=datetime.datetime(2020, 9, 14, 0, 0, tzinfo=datetime.timezone.utc), activeUntil=None, organizationId='6063', hasOrganizationSignRights=False, units=[SignerUnit(uid='87855', positionId='POS_10092', positionLabel='Αντιδήμαρχος')]), Signer(uid='100002549', firstName='Βασίλειος', lastName='Δερεδίνης', active=True, activeFrom=datetime.datetime(2014, 9, 4, 0, 0, tzinfo=datetime.timezone.utc), activeUntil=None, organizationId='6063', hasOrganizationSignRights=False, units=[SignerUnit(uid='89236', positionId='POS_10092', positionLabel='Αντιδήμαρχος')]), Signer(uid='100021002', firstName='Βασίλειος', lastName='Δερεδίνης', active=True, activeFrom=datetime.datetime(2016, 5, 5, 0, 0, tzinfo=datetime.timezone.utc), activeUntil=None, organizationId='6063', hasOrganizationSignRights=False, units=[SignerUnit(uid='100021001', positionId='100015546', positionLabel='Πρόεδρος Επιτροπής')]), Signer(uid='100003510', firstName='Βασίλης', lastName='Δερεδίνης', active=True, activeFrom=datetime.datetime(2014, 9, 12, 0, 0, tzinfo=datetime.timezone.utc), activeUntil=None, organizationId='6063', hasOrganizationSignRights=False, units=[SignerUnit(uid='91451', positionId='POS_10107', positionLabel='Προεδρεύων')]), Signer(uid='100081009', firstName='Άγγελος Παναγιώτης', lastName='Δημοσθένους', active=True, activeFrom=datetime.datetime(2023, 5, 30, 0, 0, tzinfo=datetime.timezone.utc), activeUntil=None, organizationId='6063', hasOrganizationSignRights=False, units=[SignerUnit(uid='100000849', positionId='POS_10003', positionLabel='Γενικός Γραμματέας')]), Signer(uid='100048133', firstName='Παναγιώτης', lastName='Δημουλέας', active=True, activeFrom=datetime.datetime(2019, 8, 5, 0, 0, tzinfo=datetime.timezone.utc), activeUntil=None, organizationId='6063', hasOrganizationSignRights=False, units=[SignerUnit(uid='89236', positionId='POS_10012', positionLabel='Αναπληρωτής Διευθυντής')]), Signer(uid='100089953', firstName='Παναγιώτης', lastName='Δημουλέας', active=True, activeFrom=datetime.datetime(2024, 4, 3, 0, 0, tzinfo=datetime.timezone.utc), activeUntil=None, organizationId='6063', hasOrganizationSignRights=False, units=[SignerUnit(uid='84446', positionId='100046608', positionLabel='Αναπληρωτής Προϊστάμενος')]), Signer(uid='100033663', firstName='ΕΜΜΑΝΟΥΗΛ', lastName='ΕΛEΥΘΕΡΙΟΥ', active=True, activeFrom=datetime.datetime(2017, 8, 5, 0, 0, tzinfo=datetime.timezone.utc), activeUntil=None, organizationId='6063', hasOrganizationSignRights=False, units=[SignerUnit(uid='82451', positionId='POS_10026', positionLabel='Αντιπρόεδρος')]), Signer(uid='100050246', firstName='ΕΜΜΑΝΟΥΗΛ', lastName='ΕΛEΥΘΕΡΙΟΥ', active=True, activeFrom=datetime.datetime(2019, 9, 8, 0, 0, tzinfo=datetime.timezone.utc), activeUntil=None, organizationId='6063', hasOrganizationSignRights=False, units=[SignerUnit(uid='82134', positionId='POS_10107', positionLabel='Προεδρεύων')]), Signer(uid='100088152', firstName='ΕΜΜΑΝΟΥΗΛ', lastName='ΕΛΕΥΘΕΡΙΟΥ', active=True, activeFrom=datetime.datetime(2024, 2, 12, 0, 0, tzinfo=datetime.timezone.utc), activeUntil=None, organizationId='6063', hasOrganizationSignRights=False, units=[SignerUnit(uid='83531', positionId='POS_10007', positionLabel='Πρόεδρος Δ.Σ.')]), Signer(uid='100048534', firstName='ΕΜΜΑΝΟΥΗΛ', lastName='ΕΛΕΥΘΕΡΙΟΥ', active=True, activeFrom=datetime.datetime(2019, 8, 27, 0, 0, tzinfo=datetime.timezone.utc), activeUntil=None, organizationId='6063', hasOrganizationSignRights=True, units=[SignerUnit(uid='6063', positionId='POS_10108', positionLabel='Αναπληρωτής Δήμαρχος')]), Signer(uid='100076137', firstName='ΕΜΜΑΝΟΥΗΛ', lastName='ΕΛΕΥΘΕΡΙΟΥ', active=True, activeFrom=datetime.datetime(2022, 9, 27, 0, 0, tzinfo=datetime.timezone.utc), activeUntil=None, organizationId='6063', hasOrganizationSignRights=False, units=[SignerUnit(uid='91451', positionId='POS_10026', positionLabel='Αντιπρόεδρος')]), Signer(uid='100002528', firstName='Εμμανουήλ', lastName='Ελευθερίου', active=True, activeFrom=datetime.datetime(2014, 9, 4, 0, 0, tzinfo=datetime.timezone.utc), activeUntil=None, organizationId='6063', hasOrganizationSignRights=False, units=[SignerUnit(uid='94044', positionId='POS_10092', positionLabel='Αντιδήμαρχος')]), Signer(uid='100016643', firstName='ΧΡΙΣΤΙΝΑ', lastName='ΖΗΚΟΥ', active=True, activeFrom=datetime.datetime(2015, 11, 16, 0, 0, tzinfo=datetime.timezone.utc), activeUntil=None, organizationId='6063', hasOrganizationSignRights=False, units=[SignerUnit(uid='87855', positionId='POS_10128', positionLabel='Α/Α (Αντι Αυτού) Προϊσταμένου Διεύθυνσης')]), Signer(uid='100043245', firstName='Αγγελική - Μαρία', lastName='Ζήκου', active=True, activeFrom=datetime.datetime(2018, 10, 17, 0, 0, tzinfo=datetime.timezone.utc), activeUntil=None, organizationId='6063', hasOrganizationSignRights=False, units=[SignerUnit(uid='100037268', positionId='POS_10092', positionLabel='Αντιδήμαρχος')]), Signer(uid='100023220', firstName='Αγγελική Μαρία', lastName='Ζήκου', active=True, activeFrom=datetime.datetime(2016, 9, 5, 0, 0, tzinfo=datetime.timezone.utc), activeUntil=None, organizationId='6063', hasOrganizationSignRights=False, units=[SignerUnit(uid='100032745', positionId='POS_10114', positionLabel='Προεδρεύουσα'), SignerUnit(uid='100033256', positionId='POS_10114', positionLabel='Προεδρεύουσα'), SignerUnit(uid='94044', positionId='POS_10092', positionLabel='Αντιδήμαρχος')]), Signer(uid='100090537', firstName='Χριστίνα', lastName='Ζήκου', active=True, activeFrom=datetime.datetime(2024, 4, 23, 0, 0, tzinfo=datetime.timezone.utc), activeUntil=None, organizationId='6063', hasOrganizationSignRights=False, units=[SignerUnit(uid='89502', positionId='POS_10073', positionLabel='Αναπληρωτής Προϊστάμενος Διεύθυνσης')]), Signer(uid='100061161', firstName='Αγγελική - Μαρία', lastName='Ζηκου', active=True, activeFrom=datetime.datetime(2020, 8, 21, 0, 0, tzinfo=datetime.timezone.utc), activeUntil=None, organizationId='6063', hasOrganizationSignRights=True, units=[SignerUnit(uid='6063', positionId='POS_10108', positionLabel='Αναπληρωτής Δήμαρχος')]), Signer(uid='100049699', firstName='Αγγελική - Μαρία', lastName='Ζηκου', active=True, activeFrom=datetime.datetime(2019, 9, 6, 0, 0, tzinfo=datetime.timezone.utc), activeUntil=None, organizationId='6063', hasOrganizationSignRights=False, units=[SignerUnit(uid='94044', positionId='POS_10092', positionLabel='Αντιδήμαρχος')]), Signer(uid='100046529', firstName='ΠΑΝΤΕΛΗΣ', lastName='ΘΕΟΦΑΝΙΔΗΣ', active=True, activeFrom=datetime.datetime(2019, 2, 7, 0, 0, tzinfo=datetime.timezone.utc), activeUntil=None, organizationId='6063', hasOrganizationSignRights=False, units=[SignerUnit(uid='100025485', positionId='100008409', positionLabel='Τακτικό Μέλος Επιτροπής')]), Signer(uid='100089324', firstName='Ματθαίος', lastName='Ιμπριάλος', active=True, activeFrom=datetime.datetime(2024, 3, 7, 0, 0, tzinfo=datetime.timezone.utc), activeUntil=None, organizationId='6063', hasOrganizationSignRights=False, units=[SignerUnit(uid='100085334', positionId='POS_10026', positionLabel='Αντιπρόεδρος')]), Signer(uid='100085337', firstName='ΑΔΑΜ', lastName='ΚΑΡΑΜΠΕΤΣΟΣ', active=True, activeFrom=datetime.datetime(2024, 1, 8, 0, 0, tzinfo=datetime.timezone.utc), activeUntil=None, organizationId='6063', hasOrganizationSignRights=False, units=[SignerUnit(uid='94748', positionId='POS_10092', positionLabel='Αντιδήμαρχος')]), Signer(uid='100066005', firstName='ΙΩΑΝΝΗΣ', lastName='ΚΑΡΒΕΛΟΠΟΥΛΟΣ', active=True, activeFrom=datetime.datetime(2021, 4, 27, 0, 0, tzinfo=datetime.timezone.utc), activeUntil=None, organizationId='6063', hasOrganizationSignRights=False, units=[SignerUnit(uid='100025485', positionId='100008421', positionLabel='Αναπληρωματικό Μέλος Επιτροπής')]), Signer(uid='100066006', firstName='ΙΩΑΝΝΗΣ', lastName='ΚΕΧΑΓΙΑΣ', active=True, activeFrom=datetime.datetime(2021, 4, 27, 0, 0, tzinfo=datetime.timezone.utc), activeUntil=None, organizationId='6063', hasOrganizationSignRights=False, units=[SignerUnit(uid='100025485', positionId='100008421', positionLabel='Αναπληρωματικό Μέλος Επιτροπής')]), Signer(uid='100069878', firstName='Αναστασία', lastName='Κάζαγλη', active=True, activeFrom=datetime.datetime(2021, 12, 1, 0, 0, tzinfo=datetime.timezone.utc), activeUntil=None, organizationId='6063', hasOrganizationSignRights=False, units=[SignerUnit(uid='89236', positionId='POS_10092', positionLabel='Αντιδήμαρχος')]), Signer(uid='100057503', firstName='Γεώργιος', lastName='Κανελλάκης', active=True, activeFrom=datetime.datetime(2020, 2, 17, 0, 0, tzinfo=datetime.timezone.utc), activeUntil=None, organizationId='6063', hasOrganizationSignRights=False, units=[SignerUnit(uid='100025485', positionId='100008409', positionLabel='Τακτικό Μέλος Επιτροπής')]), Signer(uid='100039294', firstName='Ιωάννης', lastName='Καρβελόπουλος', active=True, activeFrom=datetime.datetime(2018, 4, 30, 0, 0, tzinfo=datetime.timezone.utc), activeUntil=None, organizationId='6063', hasOrganizationSignRights=False, units=[SignerUnit(uid='100025485', positionId='100008421', positionLabel='Αναπληρωματικό Μέλος Επιτροπής')]), Signer(uid='100027681', firstName='Ιωάννης', lastName='Κεχαγιάς', active=True, activeFrom=datetime.datetime(2017, 1, 1, 0, 0, tzinfo=datetime.timezone.utc), activeUntil=None, organizationId='6063', hasOrganizationSignRights=False, units=[SignerUnit(uid='100025485', positionId='100008421', positionLabel='Αναπληρωματικό Μέλος Επιτροπής')]), Signer(uid='100087457', firstName='Γεωργία', lastName='Κιτσίνη', active=True, activeFrom=datetime.datetime(2024, 1, 31, 0, 0, tzinfo=datetime.timezone.utc), activeUntil=None, organizationId='6063', hasOrganizationSignRights=False, units=[SignerUnit(uid='100087456', positionId='POS_10092', positionLabel='Αντιδήμαρχος')]), Signer(uid='100069876', firstName='Ιωάννης', lastName='Κορρές', active=True, activeFrom=datetime.datetime(2021, 12, 1, 0, 0, tzinfo=datetime.timezone.utc), activeUntil=None, organizationId='6063', hasOrganizationSignRights=False, units=[SignerUnit(uid='94748', positionId='POS_10092', positionLabel='Αντιδήμαρχος')]), Signer(uid='100049691', firstName='Ιωάννης', lastName='Κορρές', active=True, activeFrom=datetime.datetime(2019, 9, 6, 0, 0, tzinfo=datetime.timezone.utc), activeUntil=None, organizationId='6063', hasOrganizationSignRights=False, units=[SignerUnit(uid='100055826', positionId='100015546', positionLabel='Πρόεδρος Επιτροπής'), SignerUnit(uid='82134', positionId='POS_10107', positionLabel='Προεδρεύων'), SignerUnit(uid='82451', positionId='POS_10092', positionLabel='Αντιδήμαρχος')]), Signer(uid='100090717', firstName='Πιπίνα', lastName='Κουνέλη', active=True, activeFrom=datetime.datetime(2024, 5, 1, 0, 0, tzinfo=datetime.timezone.utc), activeUntil=None, organizationId='6063', hasOrganizationSignRights=False, units=[SignerUnit(uid='100087456', positionId='POS_10073', positionLabel='Αναπληρωτής Προϊστάμενος Διεύθυνσης')]), Signer(uid='100025499', firstName='Ιωάννης', lastName='Κριτάκης', active=True, activeFrom=datetime.datetime(2016, 12, 1, 0, 0, tzinfo=datetime.timezone.utc), activeUntil=None, organizationId='6063', hasOrganizationSignRights=False, units=[SignerUnit(uid='100025485', positionId='100008421', positionLabel='Αναπληρωματικό Μέλος Επιτροπής')]), Signer(uid='100018090', firstName='Ευάγγελος', lastName='Κυριαζόπουλος', active=True, activeFrom=datetime.datetime(2016, 1, 12, 0, 0, tzinfo=datetime.timezone.utc), activeUntil=None, organizationId='6063', hasOrganizationSignRights=False, units=[SignerUnit(uid='100000849', positionId='POS_10003', positionLabel='Γενικός Γραμματέας')]), Signer(uid='112956', firstName='ΣΟΦΙΑ', lastName='ΛΕΠΙΔΑ-ΝΤΑΓΛΑ', active=True, activeFrom=datetime.datetime(2010, 1, 1, 0, 0, tzinfo=datetime.timezone.utc), activeUntil=None, organizationId='6063', hasOrganizationSignRights=False, units=[SignerUnit(uid='82451', positionId='POS_10092', positionLabel='Αντιδήμαρχος')]), Signer(uid='100003197', firstName='Σοφία', lastName='Λεπίδα-Ντάγλα', active=True, activeFrom=datetime.datetime(2014, 9, 1, 0, 0, tzinfo=datetime.timezone.utc), activeUntil=None, organizationId='6063', hasOrganizationSignRights=False, units=[SignerUnit(uid='82134', positionId='POS_10114', positionLabel='Προεδρεύουσα')]), Signer(uid='100002538', firstName='Σοφία', lastName='Λεπίδα-Ντάγλα', active=True, activeFrom=datetime.datetime(2014, 9, 1, 0, 0, tzinfo=datetime.timezone.utc), activeUntil=None, organizationId='6063', hasOrganizationSignRights=False, units=[SignerUnit(uid='82451', positionId='POS_10114', positionLabel='Προεδρεύουσα')]), Signer(uid='125075', firstName='ΝΙΚΟΛΑΟΣ', lastName='ΜΑΓΚΑΝΑΡΗΣ', active=True, activeFrom=datetime.datetime(2010, 1, 1, 0, 0, tzinfo=datetime.timezone.utc), activeUntil=None, organizationId='6063', hasOrganizationSignRights=False, units=[SignerUnit(uid='84308', positionId='POS_10026', positionLabel='Αντιπρόεδρος')]), Signer(uid='100005861', firstName='ΙΩΑΝΝΗΣ', lastName='ΜΑΝΙΑΤΗΣ', active=True, activeFrom=datetime.datetime(2014, 10, 7, 0, 0, tzinfo=datetime.timezone.utc), activeUntil=None, organizationId='6063', hasOrganizationSignRights=False, units=[SignerUnit(uid='84308', positionId='POS_10087', positionLabel='Προεδρεύων Αντιπρόεδρος')]), Signer(uid='100086795', firstName='ΓΕΩΡΓΙΟΣ', lastName='ΜΑΡΚΟΠΟΥΛΟΣ', active=True, activeFrom=datetime.datetime(2024, 1, 24, 0, 0, tzinfo=datetime.timezone.utc), activeUntil=None, organizationId='6063', hasOrganizationSignRights=False, units=[SignerUnit(uid='100085334', positionId='POS_10036', positionLabel='Πρόεδρος')]), Signer(uid='100077753', firstName='ΚΩΣΤΑΝΤΙΝΟΣ', lastName='ΜΠΑΣΤΑΣ', active=True, activeFrom=datetime.datetime(2022, 12, 14, 0, 0, tzinfo=datetime.timezone.utc), activeUntil=None, organizationId='6063', hasOrganizationSignRights=False, units=[SignerUnit(uid='100055826', positionId='100015546', positionLabel='Πρόεδρος Επιτροπής')]), Signer(uid='100023171', firstName='ΑΘΑΝΑΣΙΟΣ', lastName='ΜΠΟΥΡΑΣ', active=True, activeFrom=datetime.datetime(2014, 9, 7, 0, 0, tzinfo=datetime.timezone.utc), activeUntil=None, organizationId='6063', hasOrganizationSignRights=False, units=[SignerUnit(uid='82134', positionId='POS_10077', positionLabel='Αντιπρόεδρος Δ.Σ.')]), Signer(uid='100052071', firstName='Μαργαρίτα', lastName='Μανδηλαρά', active=True, activeFrom=datetime.datetime(2019, 10, 2, 0, 0, tzinfo=datetime.timezone.utc), activeUntil=None, organizationId='6063', hasOrganizationSignRights=False, units=[SignerUnit(uid='84308', positionId='POS_10026', positionLabel='Αντιπρόεδρος')]), Signer(uid='100049693', firstName='Μαργαρίτα', lastName='Μανδηλαρά', active=True, activeFrom=datetime.datetime(2019, 9, 6, 0, 0, tzinfo=datetime.timezone.utc), activeUntil=None, organizationId='6063', hasOrganizationSignRights=False, units=[SignerUnit(uid='89236', positionId='POS_10092', positionLabel='Αντιδήμαρχος')]), Signer(uid='100003507', firstName='Γεώργιος', lastName='Μαρκόπουλος', active=True, activeFrom=datetime.datetime(2014, 9, 12, 0, 0, tzinfo=datetime.timezone.utc), activeUntil=None, organizationId='6063', hasOrganizationSignRights=False, units=[SignerUnit(uid='84308', positionId='POS_10036', positionLabel='Πρόεδρος')]), Signer(uid='100002332', firstName='Γεώργιος', lastName='Μαρκόπουλος', active=True, activeFrom=datetime.datetime(2014, 9, 3, 0, 0, tzinfo=datetime.timezone.utc), activeUntil=None, organizationId='6063', hasOrganizationSignRights=True, units=[SignerUnit(uid='6063', positionId='POS_10091', positionLabel='Δήμαρχος')]), Signer(uid='100002636', firstName='Γεώργιος', lastName='Μαρκόπουλος', active=True, activeFrom=datetime.datetime(2014, 9, 5, 0, 0, tzinfo=datetime.timezone.utc), activeUntil=None, organizationId='6063', hasOrganizationSignRights=False, units=[SignerUnit(uid='89502', positionId='POS_10012', positionLabel='Αναπληρωτής Διευθυντής')]), Signer(uid='100023527', firstName='Γεώργιος', lastName='Μαρκόπουλος', active=True, activeFrom=datetime.datetime(2016, 9, 5, 0, 0, tzinfo=datetime.timezone.utc), activeUntil=None, organizationId='6063', hasOrganizationSignRights=False, units=[SignerUnit(uid='91451', positionId='POS_10036', positionLabel='Πρόεδρος')]), Signer(uid='100011086', firstName='Γιώργος', lastName='Μαρκόπουλος', active=True, activeFrom=datetime.datetime(2015, 2, 11, 0, 0, tzinfo=datetime.timezone.utc), activeUntil=None, organizationId='6063', hasOrganizationSignRights=False, units=[SignerUnit(uid='94748', positionId='POS_10009', positionLabel='Διευθυντής')]), Signer(uid='100048580', firstName='Σταυρούλα', lastName='Ματσικούδη', active=True, activeFrom=datetime.datetime(2019, 8, 30, 0, 0, tzinfo=datetime.timezone.utc), activeUntil=None, organizationId='6063', hasOrganizationSignRights=False, units=[SignerUnit(uid='89236', positionId='POS_10012', positionLabel='Αναπληρωτής Διευθυντής')]), Signer(uid='100067105', firstName='Σταυρούλα', lastName='Ματσικούδη', active=True, activeFrom=datetime.datetime(2021, 7, 8, 0, 0, tzinfo=datetime.timezone.utc), activeUntil=None, organizationId='6063', hasOrganizationSignRights=False, units=[SignerUnit(uid='100067104', positionId='POS_10128', positionLabel='Α/Α (Αντι Αυτού) Προϊσταμένου Διεύθυνσης')]), Signer(uid='100002532', firstName='Γερμάνος', lastName='Μελισσουργός', active=True, activeFrom=datetime.datetime(2014, 9, 4, 0, 0, tzinfo=datetime.timezone.utc), activeUntil=None, organizationId='6063', hasOrganizationSignRights=False, units=[SignerUnit(uid='100023223', positionId='POS_10092', positionLabel='Αντιδήμαρχος'), SignerUnit(uid='87855', positionId='POS_10092', positionLabel='Αντιδήμαρχος')]), Signer(uid='100017035', firstName='Γερμάνος', lastName='Μελισσουργός', active=True, activeFrom=datetime.datetime(2015, 12, 2, 0, 0, tzinfo=datetime.timezone.utc), activeUntil=None, organizationId='6063', hasOrganizationSignRights=True, units=[SignerUnit(uid='6063', positionId='POS_10108', positionLabel='Αναπληρωτής Δήμαρχος')]), Signer(uid='100033793', firstName='Κωνσταντίνος', lastName='Μπάστας', active=True, activeFrom=datetime.datetime(2017, 9, 13, 0, 0, tzinfo=datetime.timezone.utc), activeUntil=None, organizationId='6063', hasOrganizationSignRights=False, units=[SignerUnit(uid='94748', positionId='POS_10092', positionLabel='Αντιδήμαρχος')]), Signer(uid='100069879', firstName='Κωνσταντίνος', lastName='Μπάστας', active=True, activeFrom=datetime.datetime(2021, 12, 1, 0, 0, tzinfo=datetime.timezone.utc), activeUntil=None, organizationId='6063', hasOrganizationSignRights=False, units=[SignerUnit(uid='82451', positionId='POS_10092', positionLabel='Αντιδήμαρχος')]), Signer(uid='100059876', firstName='Κωνσταντίνος', lastName='Μπάστας', active=True, activeFrom=datetime.datetime(2020, 6, 17, 0, 0, tzinfo=datetime.timezone.utc), activeUntil=None, organizationId='6063', hasOrganizationSignRights=False, units=[SignerUnit(uid='84308', positionId='POS_10107', positionLabel='Προεδρεύων')]), Signer(uid='100061709', firstName='Κωνσταντίνος', lastName='Μπάστας', active=True, activeFrom=datetime.datetime(2020, 9, 14, 0, 0, tzinfo=datetime.timezone.utc), activeUntil=None, organizationId='6063', hasOrganizationSignRights=False, units=[SignerUnit(uid='100061708', positionId='POS_10115', positionLabel='Εντεταλμένος Δημοτικός Σύμβουλος')]), Signer(uid='100003198', firstName='Ισιδώρα', lastName='Μπακάλου', active=True, activeFrom=datetime.datetime(2014, 9, 9, 0, 0, tzinfo=datetime.timezone.utc), activeUntil=None, organizationId='6063', hasOrganizationSignRights=False, units=[SignerUnit(uid='82134', positionId='POS_10007', positionLabel='Πρόεδρος Δ.Σ.')]), Signer(uid='100085358', firstName='Ευφροσύνη', lastName='Μπούρα – Πολυχρονοπούλου', active=True, activeFrom=datetime.datetime(2024, 1, 8, 0, 0, tzinfo=datetime.timezone.utc), activeUntil=None, organizationId='6063', hasOrganizationSignRights=False, units=[SignerUnit(uid='94044', positionId='POS_10092', positionLabel='Αντιδήμαρχος')]), Signer(uid='100023218', firstName='Ιωάννης', lastName='Οικονόμου', active=True, activeFrom=datetime.datetime(2016, 9, 5, 0, 0, tzinfo=datetime.timezone.utc), activeUntil=None, organizationId='6063', hasOrganizationSignRights=False, units=[SignerUnit(uid='89236', positionId='POS_10092', positionLabel='Αντιδήμαρχος')]), Signer(uid='100061696', firstName='ΠΕΤΡΟΥΛΑ', lastName='ΠΑΠΑΓΕΩΡΓΙΟΥ', active=True, activeFrom=datetime.datetime(2020, 9, 14, 0, 0, tzinfo=datetime.timezone.utc), activeUntil=None, organizationId='6063', hasOrganizationSignRights=False, units=[SignerUnit(uid='94748', positionId='POS_10092', positionLabel='Αντιδήμαρχος')]), Signer(uid='100066003', firstName='ΜΙΧΑΗΛ', lastName='ΠΑΠΑΔΑΚΗΣ', active=True, activeFrom=datetime.datetime(2021, 4, 27, 0, 0, tzinfo=datetime.timezone.utc), activeUntil=None, organizationId='6063', hasOrganizationSignRights=False, units=[SignerUnit(uid='100025485', positionId='100008409', positionLabel='Τακτικό Μέλος Επιτροπής')]), Signer(uid='100094876', firstName='ΠΑΝΑΓΙΩΤΑ', lastName='ΠΑΡΑΣΚΕΥΑ', active=True, activeFrom=datetime.datetime(2024, 12, 2, 0, 0, tzinfo=datetime.timezone.utc), activeUntil=None, organizationId='6063', hasOrganizationSignRights=False, units=[SignerUnit(uid='84446', positionId='POS_10073', positionLabel='Αναπληρωτής Προϊστάμενος Διεύθυνσης')]), Signer(uid='100061698', firstName='Εμμανουήλ', lastName='ΠΡΩΤΟΝΟΤΑΡΙΟΣ', active=True, activeFrom=datetime.datetime(2020, 9, 14, 0, 0, tzinfo=datetime.timezone.utc), activeUntil=None, organizationId='6063', hasOrganizationSignRights=False, units=[SignerUnit(uid='100061697', positionId='POS_10092', positionLabel='Αντιδήμαρχος')]), Signer(uid='100025486', firstName='Μιχαήλ', lastName='Παπαδάκης', active=True, activeFrom=datetime.datetime(2016, 12, 1, 0, 0, tzinfo=datetime.timezone.utc), activeUntil=None, organizationId='6063', hasOrganizationSignRights=False, units=[SignerUnit(uid='100025485', positionId='100008421', positionLabel='Αναπληρωματικό Μέλος Επιτροπής')]), Signer(uid='100090200', firstName='Δημήτρης', lastName='Παρδάλης', active=True, activeFrom=datetime.datetime(2024, 4, 11, 0, 0, tzinfo=datetime.timezone.utc), activeUntil=None, organizationId='6063', hasOrganizationSignRights=False, units=[SignerUnit(uid='100025485', positionId='100008409', positionLabel='Τακτικό Μέλος Επιτροπής')]), Signer(uid='100011084', firstName='Ελένη', lastName='Πρίντζου', active=True, activeFrom=datetime.datetime(2015, 2, 11, 0, 0, tzinfo=datetime.timezone.utc), activeUntil=None, organizationId='6063', hasOrganizationSignRights=False, units=[SignerUnit(uid='89236', positionId='POS_10009', positionLabel='Διευθυντής')]), Signer(uid='100049697', firstName='Εμμανουήλ', lastName='Πρωτονοτάριος', active=True, activeFrom=datetime.datetime(2019, 9, 6, 0, 0, tzinfo=datetime.timezone.utc), activeUntil=None, organizationId='6063', hasOrganizationSignRights=False, units=[SignerUnit(uid='87855', positionId='POS_10092', positionLabel='Αντιδήμαρχος')]), Signer(uid='100013413', firstName='Εμμανουήλ', lastName='Πρωτονοτάριος', active=True, activeFrom=datetime.datetime(2015, 6, 8, 0, 0, tzinfo=datetime.timezone.utc), activeUntil=None, organizationId='6063', hasOrganizationSignRights=False, units=[SignerUnit(uid='91451', positionId='POS_10087', positionLabel='Προεδρεύων Αντιπρόεδρος')]), Signer(uid='100090007', firstName='ΒΑΣΙΛΙΚΗ', lastName='ΡΑΝΙΟΥ', active=True, activeFrom=datetime.datetime(2024, 4, 5, 0, 0, tzinfo=datetime.timezone.utc), activeUntil=None, organizationId='6063', hasOrganizationSignRights=False, units=[SignerUnit(uid='100090006', positionId='POS_10012', positionLabel='Αναπληρωτής Διευθυντής')]), Signer(uid='100064174', firstName='Βασιλική', lastName='Ράνιου', active=True, activeFrom=datetime.datetime(2021, 1, 27, 0, 0, tzinfo=datetime.timezone.utc), activeUntil=None, organizationId='6063', hasOrganizationSignRights=False, units=[SignerUnit(uid='94748', positionId='POS_10012', positionLabel='Αναπληρωτής Διευθυντής')]), Signer(uid='100083969', firstName='Βασιλική', lastName='Ράνιου', active=True, activeFrom=datetime.datetime(2023, 12, 5, 0, 0, tzinfo=datetime.timezone.utc), activeUntil=None, organizationId='6063', hasOrganizationSignRights=False, units=[SignerUnit(uid='94748', positionId='POS_10040', positionLabel='Προϊστάμενος Τμήματος')]), Signer(uid='100001464', firstName='Χρήστος', lastName='Ρίζος', active=True, activeFrom=datetime.datetime(2015, 9, 4, 0, 0, tzinfo=datetime.timezone.utc), activeUntil=None, organizationId='6063', hasOrganizationSignRights=False, units=[SignerUnit(uid='89502', positionId='POS_10012', positionLabel='Αναπληρωτής Διευθυντής')]), Signer(uid='100092123', firstName='Νίκη', lastName='Ρηγάκου', active=True, activeFrom=datetime.datetime(2024, 7, 23, 0, 0, tzinfo=datetime.timezone.utc), activeUntil=None, organizationId='6063', hasOrganizationSignRights=False, units=[SignerUnit(uid='94748', positionId='POS_10073', positionLabel='Αναπληρωτής Προϊστάμενος Διεύθυνσης')]), Signer(uid='100089814', firstName='Νίκη', lastName='Ρηγάκου', active=True, activeFrom=datetime.datetime(2024, 3, 27, 0, 0, tzinfo=datetime.timezone.utc), activeUntil=None, organizationId='6063', hasOrganizationSignRights=False, units=[SignerUnit(uid='100089813', positionId='POS_10073', positionLabel='Αναπληρωτής Προϊστάμενος Διεύθυνσης')]), Signer(uid='100085355', firstName='Παναγιώτης', lastName='Ροπόδης', active=True, activeFrom=datetime.datetime(2024, 1, 8, 0, 0, tzinfo=datetime.timezone.utc), activeUntil=None, organizationId='6063', hasOrganizationSignRights=False, units=[SignerUnit(uid='100085354', positionId='POS_10092', positionLabel='Αντιδήμαρχος')]), Signer(uid='100094086', firstName='Παναγιώτης', lastName='Ροπόδης', active=True, activeFrom=datetime.datetime(2024, 10, 30, 0, 0, tzinfo=datetime.timezone.utc), activeUntil=None, organizationId='6063', hasOrganizationSignRights=False, units=[SignerUnit(uid='100085334', positionId='POS_10107', positionLabel='Προεδρεύων')]), Signer(uid='100094193', firstName='Παναγιώτης', lastName='Ροπόδης', active=True, activeFrom=datetime.datetime(2024, 11, 7, 0, 0, tzinfo=datetime.timezone.utc), activeUntil=None, organizationId='6063', hasOrganizationSignRights=True, units=[SignerUnit(uid='6063', positionId='POS_10108', positionLabel='Αναπληρωτής Δήμαρχος')]), Signer(uid='100023219', firstName='Παναγιώτης', lastName='Ροπόδης', active=True, activeFrom=datetime.datetime(2016, 9, 5, 0, 0, tzinfo=datetime.timezone.utc), activeUntil=None, organizationId='6063', hasOrganizationSignRights=False, units=[SignerUnit(uid='94748', positionId='POS_10092', positionLabel='Αντιδήμαρχος')]), Signer(uid='100027683', firstName='Παναγιώτης', lastName='Ρουμελιώτης', active=True, activeFrom=datetime.datetime(2017, 1, 17, 0, 0, tzinfo=datetime.timezone.utc), activeUntil=None, organizationId='6063', hasOrganizationSignRights=False, units=[SignerUnit(uid='100025485', positionId='100008421', positionLabel='Αναπληρωματικό Μέλος Επιτροπής')]), Signer(uid='100049875', firstName='Ιωάννης', lastName='Ρωμανός', active=True, activeFrom=datetime.datetime(2019, 9, 9, 0, 0, tzinfo=datetime.timezone.utc), activeUntil=None, organizationId='6063', hasOrganizationSignRights=False, units=[SignerUnit(uid='82134', positionId='POS_10007', positionLabel='Πρόεδρος Δ.Σ.')]), Signer(uid='100009357', firstName='ΙΩΑΝΝΗΣ', lastName='ΣΙΔΕΡΗΣ', active=True, activeFrom=datetime.datetime(2014, 12, 8, 0, 0, tzinfo=datetime.timezone.utc), activeUntil=None, organizationId='6063', hasOrganizationSignRights=False, units=[SignerUnit(uid='91451', positionId='POS_10087', positionLabel='Προεδρεύων Αντιπρόεδρος')]), Signer(uid='136896', firstName='ΠΑΝΑΓΙΩΤΗΣ', lastName='ΣΠΗΛΙΟΠΟΥΛΟΣ', active=True, activeFrom=datetime.datetime(2010, 1, 1, 0, 0, tzinfo=datetime.timezone.utc), activeUntil=None, organizationId='6063', hasOrganizationSignRights=False, units=[SignerUnit(uid='94748', positionId='POS_10009', positionLabel='Διευθυντής')]), Signer(uid='124917', firstName='ΠΑΝΑΓΙΩΤΗΣ', lastName='ΣΠΗΛΙΟΠΟΥΛΟΣ', active=True, activeFrom=datetime.datetime(2010, 1, 1, 0, 0, tzinfo=datetime.timezone.utc), activeUntil=None, organizationId='6063', hasOrganizationSignRights=False, units=[SignerUnit(uid='89502', positionId='POS_10009', positionLabel='Διευθυντής')]), Signer(uid='100025488', firstName='Νικόλαος', lastName='Σιδερής', active=True, activeFrom=datetime.datetime(2016, 12, 1, 0, 0, tzinfo=datetime.timezone.utc), activeUntil=None, organizationId='6063', hasOrganizationSignRights=False, units=[SignerUnit(uid='100025485', positionId='100008409', positionLabel='Τακτικό Μέλος Επιτροπής')]), Signer(uid='100049677', firstName='Ιωάννης', lastName='Σκληράκης', active=True, activeFrom=datetime.datetime(2019, 9, 6, 0, 0, tzinfo=datetime.timezone.utc), activeUntil=None, organizationId='6063', hasOrganizationSignRights=False, units=[SignerUnit(uid='100037268', positionId='POS_10092', positionLabel='Αντιδήμαρχος')]), Signer(uid='100085258', firstName='Ιωάννης', lastName='Σκληράκης', active=True, activeFrom=datetime.datetime(2024, 1, 8, 0, 0, tzinfo=datetime.timezone.utc), activeUntil=None, organizationId='6063', hasOrganizationSignRights=False, units=[SignerUnit(uid='82451', positionId='POS_10092', positionLabel='Αντιδήμαρχος')]), Signer(uid='100076092', firstName='Κωνσταντίνα', lastName='Σπηλιοπούλου - Χρυσάγη', active=True, activeFrom=datetime.datetime(2022, 9, 26, 0, 0, tzinfo=datetime.timezone.utc), activeUntil=None, organizationId='6063', hasOrganizationSignRights=True, units=[SignerUnit(uid='6063', positionId='POS_10108', positionLabel='Αναπληρωτής Δήμαρχος')]), Signer(uid='100069881', firstName='Κωνσταντίνα', lastName='Σπηλιοπούλου - Χρυσάγη', active=True, activeFrom=datetime.datetime(2021, 12, 1, 0, 0, tzinfo=datetime.timezone.utc), activeUntil=None, organizationId='6063', hasOrganizationSignRights=False, units=[SignerUnit(uid='100061708', positionId='POS_10092', positionLabel='Αντιδήμαρχος')]), Signer(uid='100043246', firstName='Κωνσταντίνα', lastName='Σπηλιοπούλου - Χρυσάγη', active=True, activeFrom=datetime.datetime(2018, 10, 17, 0, 0, tzinfo=datetime.timezone.utc), activeUntil=None, organizationId='6063', hasOrganizationSignRights=False, units=[SignerUnit(uid='94044', positionId='POS_10092', positionLabel='Αντιδήμαρχος')]), Signer(uid='100061700', firstName='Κωνσταντίνα', lastName='Σπηλιοπούλου-Χρυσάγη', active=True, activeFrom=datetime.datetime(2020, 9, 14, 0, 0, tzinfo=datetime.timezone.utc), activeUntil=None, organizationId='6063', hasOrganizationSignRights=False, units=[SignerUnit(uid='82451', positionId='POS_10092', positionLabel='Αντιδήμαρχος')]), Signer(uid='100016644', firstName='ΠΑΝΑΓΙΩΤΑ', lastName='ΤΖΑΝΕΤΑΚΗ', active=True, activeFrom=datetime.datetime(2015, 11, 9, 0, 0, tzinfo=datetime.timezone.utc), activeUntil=None, organizationId='6063', hasOrganizationSignRights=False, units=[SignerUnit(uid='94748', positionId='POS_10128', positionLabel='Α/Α (Αντι Αυτού) Προϊσταμένου Διεύθυνσης')]), Signer(uid='100092015', firstName='ΒΑΣΙΛΗΣ', lastName='ΤΖΑΝΝΗΣ', active=True, activeFrom=datetime.datetime(2024, 7, 17, 0, 0, tzinfo=datetime.timezone.utc), activeUntil=None, organizationId='6063', hasOrganizationSignRights=False, units=[SignerUnit(uid='94748', positionId='POS_10073', positionLabel='Αναπληρωτής Προϊστάμενος Διεύθυνσης')]), Signer(uid='112729', firstName='ΚΥΡΙΑΚΟΣ', lastName='ΤΣΙΡΟΣ', active=True, activeFrom=datetime.datetime(2010, 1, 1, 0, 0, tzinfo=datetime.timezone.utc), activeUntil=None, organizationId='6063', hasOrganizationSignRights=True, units=[SignerUnit(uid='6063', positionId='POS_10091', positionLabel='Δήμαρχος')]), Signer(uid='129530', firstName='ΚΩΝΣΤΑΝΤΙΝΟΣ', lastName='ΤΣΙΡΩΝΗΣ', active=True, activeFrom=datetime.datetime(2010, 1, 1, 0, 0, tzinfo=datetime.timezone.utc), activeUntil=None, organizationId='6063', hasOrganizationSignRights=False, units=[SignerUnit(uid='82134', positionId='POS_10007', positionLabel='Πρόεδρος Δ.Σ.')]), Signer(uid='100085350', firstName='Ιωάννης', lastName='Τακτικός', active=True, activeFrom=datetime.datetime(2024, 1, 8, 0, 0, tzinfo=datetime.timezone.utc), activeUntil=None, organizationId='6063', hasOrganizationSignRights=False, units=[SignerUnit(uid='100023223', positionId='POS_10092', positionLabel='Αντιδήμαρχος')]), Signer(uid='100027682', firstName='Παναγιώτης', lastName='Τζιριβήλας', active=True, activeFrom=datetime.datetime(2017, 1, 17, 0, 0, tzinfo=datetime.timezone.utc), activeUntil=None, organizationId='6063', hasOrganizationSignRights=False, units=[SignerUnit(uid='100025485', positionId='100008421', positionLabel='Αναπληρωματικό Μέλος Επιτροπής')]), Signer(uid='100025487', firstName='Γεώργιος', lastName='Φραγκουλόπουλος', active=True, activeFrom=datetime.datetime(2016, 12, 1, 0, 0, tzinfo=datetime.timezone.utc), activeUntil=None, organizationId='6063', hasOrganizationSignRights=False, units=[SignerUnit(uid='100025485', positionId='100008409', positionLabel='Τακτικό Μέλος Επιτροπής')]), Signer(uid='137063', firstName='ΑΓΑΜΕΜΝΩΝ', lastName='ΧΡΙΣΤΟΔΟΥΛΟΥ', active=True, activeFrom=datetime.datetime(2010, 1, 1, 0, 0, tzinfo=datetime.timezone.utc), activeUntil=None, organizationId='6063', hasOrganizationSignRights=False, units=[SignerUnit(uid='89236', positionId='POS_10092', positionLabel='Αντιδήμαρχος')]), Signer(uid='136721', firstName='ΑΓΑΜΕΜΝΩΝ', lastName='ΧΡΙΣΤΟΔΟΥΛΟΥ', active=True, activeFrom=datetime.datetime(2010, 1, 1, 0, 0, tzinfo=datetime.timezone.utc), activeUntil=None, organizationId='6063', hasOrganizationSignRights=False, units=[SignerUnit(uid='91451', positionId='POS_10036', positionLabel='Πρόεδρος')]), Signer(uid='100085367', firstName='Ασημίνα', lastName='Χατζηαθανασίου', active=True, activeFrom=datetime.datetime(2024, 1, 8, 0, 0, tzinfo=datetime.timezone.utc), activeUntil=None, organizationId='6063', hasOrganizationSignRights=False, units=[SignerUnit(uid='100000849', positionId='POS_10003', positionLabel='Γενικός Γραμματέας')]), Signer(uid='100097222', firstName='Γεωργια', lastName='Χατζηαντωνακη', active=True, activeFrom=datetime.datetime(2025, 4, 4, 0, 0, tzinfo=datetime.timezone.utc), activeUntil=None, organizationId='6063', hasOrganizationSignRights=False, units=[SignerUnit(uid='100087456', positionId='POS_10012', positionLabel='Αναπληρωτής Διευθυντής')]), Signer(uid='100060980', firstName='Μαύρα', lastName='Χατζηδημητρίου', active=True, activeFrom=datetime.datetime(2020, 8, 11, 0, 0, tzinfo=datetime.timezone.utc), activeUntil=None, organizationId='6063', hasOrganizationSignRights=False, units=[SignerUnit(uid='94044', positionId='POS_10012', positionLabel='Αναπληρωτής Διευθυντής')]), Signer(uid='100085357', firstName='Αγαμέμνων', lastName='Χριστοδούλου', active=True, activeFrom=datetime.datetime(2024, 1, 8, 0, 0, tzinfo=datetime.timezone.utc), activeUntil=None, organizationId='6063', hasOrganizationSignRights=False, units=[SignerUnit(uid='89236', positionId='POS_10092', positionLabel='Αντιδήμαρχος')]), Signer(uid='100057502', firstName='Στέλιος', lastName='Χωριανόπουλος', active=True, activeFrom=datetime.datetime(2020, 2, 17, 0, 0, tzinfo=datetime.timezone.utc), activeUntil=None, organizationId='6063', hasOrganizationSignRights=False, units=[SignerUnit(uid='100025485', positionId='100008409', positionLabel='Τακτικό Μέλος Επιτροπής')])])"
      ]
     },
     "execution_count": 10,
     "metadata": {},
     "output_type": "execute_result"
    }
   ],
   "source": [
    "organization_signers"
   ]
  },
  {
   "cell_type": "code",
   "execution_count": 11,
   "id": "a171adac",
   "metadata": {},
   "outputs": [
    {
     "name": "stdout",
     "output_type": "stream",
     "text": [
      "Organization called: ΔΗΜΟΣ ΓΑΛΑΤΣΙΟΥ has 127 signers which are:\n",
      "0: ΡΟΔΟΘΕΑ ΑΒΕΡΚΙΟΥ (Αναπληρωτής Προϊστάμενος Διεύθυνσης at unit with id 100087455)\n",
      "1: ΑΓΓΕΛΙΚΗ ΑΛΙΦΙΕΡΑΚΗ (Διευθύνων at unit with id 89236)\n",
      "2: ΝΙΚΟΛΑΟΣ ΑΝΑΣΤΟΠΟΥΛΟΣ (Αναπληρωματικό Μέλος Επιτροπής at unit with id 100025485)\n",
      "3: ΝΙΚΟΛΑΟΣ ΠΑΝΑΓΙΩΤΗΣ ΑΝΑΣΤΟΠΟΥΛΟΣ (Τακτικό Μέλος Επιτροπής at unit with id 100025485)\n",
      "4: Γεώργιος Αμοργιανός (Αντιδήμαρχος at unit with id 100023223)\n"
     ]
    }
   ],
   "source": [
    "print(f\"Organization called: {org_name} has {len(organization_signers.signers)} signers which are:\")\n",
    "for i, signer in enumerate(organization_signers.signers[:PRINTING_LIMIT]):\n",
    "    units_string = \"\\n\".join([ f\"{unit.positionLabel} at unit with id {unit.uid}\" for unit in signer.units])\n",
    "    \n",
    "    print(f\"{i}: {signer.firstName} {signer.lastName} ({units_string})\")"
   ]
  },
  {
   "cell_type": "code",
   "execution_count": 12,
   "id": "ffc88d44",
   "metadata": {},
   "outputs": [],
   "source": [
    "organization_units = client.get_organization_units(search_for_organization)"
   ]
  },
  {
   "cell_type": "code",
   "execution_count": 13,
   "id": "567bfec8",
   "metadata": {},
   "outputs": [
    {
     "name": "stdout",
     "output_type": "stream",
     "text": [
      "Organization called: ΔΗΜΟΣ ΓΑΛΑΤΣΙΟΥ owns 39 units which are:\n",
      "0: ΑΔΕΙΟΔΟΤΗΣΕΩΝ ΚΑΙ ΡΥΘΜΙΣΗΣ ΕΜΠΟΡΙΚΩΝ ΔΡΑΣΤΗΡΙΟΤΗΤΩΝ\n",
      "1: ΑΝΩΝΥΜΗ ΜΟΝΟΜΕΤΟΧΙΚΗ ΕΤΑΙΡΙΑ ΔΙΑΧΕΙΡΙΣΗΣ ΑΚΙΝΗΤΩΝ\n",
      "2: ΑΥΤΟΤΕΛΕΣ TMHMA ΕΠΙΚΟΙΝΩΝΙΑΣ, ΤΥΠΟΥ, ΔΗΜΟΣΙΩΝ ΣΧΕΣΕΩΝ ΚΑΙ ΔΙΕΘΝΩΝ ΣΧΕΣΕΩΝ\n",
      "3: ΑΥΤΟΤΕΛΕΣ TMHMA ΠΑΙΔΕΙΑΣ, ΠΟΛΙΤΙΣΜΟΥ ΚΑΙ ΑΘΛΗΤΙΣΜΟΥ\n",
      "4: ΑΥΤΟΤΕΛΕΣ ΓΡΑΦΕΙΟ ΠΟΛΙΤΙΚΗΣ ΑΜΥΝΑΣ\n"
     ]
    }
   ],
   "source": [
    "print(f\"Organization called: {org_name} owns {len(organization_units.units)} units which are:\")\n",
    "for i, unit in enumerate(organization_units.units[:PRINTING_LIMIT]):\n",
    "    print(f\"{i}: {unit.label}\")"
   ]
  }
 ],
 "metadata": {
  "kernelspec": {
   "display_name": ".venv",
   "language": "python",
   "name": "python3"
  },
  "language_info": {
   "codemirror_mode": {
    "name": "ipython",
    "version": 3
   },
   "file_extension": ".py",
   "mimetype": "text/x-python",
   "name": "python",
   "nbconvert_exporter": "python",
   "pygments_lexer": "ipython3",
   "version": "3.12.8"
  }
 },
 "nbformat": 4,
 "nbformat_minor": 5
}
